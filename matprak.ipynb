{
 "cells": [
  {
   "cell_type": "code",
   "execution_count": 1,
   "metadata": {},
   "outputs": [
    {
     "name": "stderr",
     "output_type": "stream",
     "text": [
      "Using TensorFlow backend.\n"
     ]
    }
   ],
   "source": [
    "import pandas as pd\n",
    "import numpy as np\n",
    "import re\n",
    "from keras.layers import Dense,GaussianNoise,LeakyReLU,Activation\n",
    "from keras.models import Sequential\n",
    "import matplotlib.pyplot as plt\n",
    "from sklearn.naive_bayes import GaussianNB,BernoulliNB,MultinomialNB,CategoricalNB\n",
    "from sklearn.ensemble import RandomForestClassifier\n",
    "from sklearn.model_selection import cross_val_score\n",
    "from sklearn.model_selection import train_test_split\n",
    " \n"
   ]
  },
  {
   "cell_type": "markdown",
   "metadata": {},
   "source": [
    "## Проведем предобработку данных\n"
   ]
  },
  {
   "cell_type": "code",
   "execution_count": 2,
   "metadata": {},
   "outputs": [],
   "source": [
    "train=open('train.txt','r')\n",
    "train = train.read().splitlines()\n",
    "test=open('test.txt','r')\n",
    "test=test.read().splitlines()"
   ]
  },
  {
   "cell_type": "markdown",
   "metadata": {},
   "source": [
    "Так как самая первая строка - индексы, то удаляем ее"
   ]
  },
  {
   "cell_type": "markdown",
   "metadata": {},
   "source": [
    "Как видно, первые строки - числа"
   ]
  },
  {
   "cell_type": "code",
   "execution_count": 3,
   "metadata": {},
   "outputs": [
    {
     "name": "stdout",
     "output_type": "stream",
     "text": [
      "1 -0.335467047065564 0.102235638179093 red\n",
      "1 -2.24246004235479 0.47048871459103 green\n"
     ]
    }
   ],
   "source": [
    "train.pop(0)\n",
    "test.pop(0)\n",
    "print(train[0])\n",
    "print(test[0])"
   ]
  },
  {
   "cell_type": "markdown",
   "metadata": {},
   "source": [
    "Создаем из считанных файлов массивы"
   ]
  },
  {
   "cell_type": "code",
   "execution_count": 4,
   "metadata": {},
   "outputs": [],
   "source": [
    "train_data=np.array(train)\n",
    "test_data=np.array(test)"
   ]
  },
  {
   "cell_type": "markdown",
   "metadata": {},
   "source": [
    "Создаем пустую обучающую выборку, red - 0, green - 1"
   ]
  },
  {
   "cell_type": "code",
   "execution_count": 5,
   "metadata": {},
   "outputs": [],
   "source": [
    "width=2\n",
    "train_length=train_data.shape[0]\n",
    "test_length=test_data.shape[0]\n",
    "\n",
    "x_train=np.ones((train_length,width))\n",
    "y_train=np.ones((train_length,1))\n",
    "x_test=np.ones((test_length,width))\n",
    "y_test=np.ones((test_length,1))"
   ]
  },
  {
   "cell_type": "markdown",
   "metadata": {},
   "source": [
    "Создаем на основе считанных файлов выборку"
   ]
  },
  {
   "cell_type": "code",
   "execution_count": 6,
   "metadata": {},
   "outputs": [],
   "source": [
    "\n",
    "for i,line in enumerate(train_data):\n",
    "        data=re.split(r' ',line)\n",
    "        x_train[i][0]=float(data[1])\n",
    "        x_train[i][1]=float(data[2])\n",
    "        if data[3]=='red':\n",
    "            y_train[i]=0\n",
    "        else:\n",
    "            y_train[i]=1\n",
    "            \n",
    "\n",
    "for i,line in enumerate(test_data):\n",
    "        data=re.split(r' ',line)\n",
    "        x_test[i][0]=float(data[1])\n",
    "        x_test[i][1]=float(data[2])\n",
    "        if data[3]=='red':\n",
    "            y_test[i]=0\n",
    "        else:\n",
    "            y_test[i]=1"
   ]
  },
  {
   "cell_type": "markdown",
   "metadata": {},
   "source": [
    "### Нормализуем данные\n"
   ]
  },
  {
   "cell_type": "markdown",
   "metadata": {},
   "source": [
    "Нормализуем обуающую выборку\n"
   ]
  },
  {
   "cell_type": "code",
   "execution_count": 7,
   "metadata": {},
   "outputs": [
    {
     "name": "stdout",
     "output_type": "stream",
     "text": [
      "Первая строка после нормализации [-0.2401377   0.11391791]\n",
      "Среднее арифметическое по стобцам  [-0.08505942 -0.00590062]\n",
      "Дисперсия по столбцам [1.04276681 0.94924718]\n"
     ]
    }
   ],
   "source": [
    "means,stds=x_train.mean(axis=0),x_train.std(axis=0)\n",
    "\n",
    "for i in range(x_train.shape[0]):\n",
    "    for j in range(x_train.shape[1]):\n",
    "        x_train[i][j]=(x_train[i][j]-means[j])/stds[j]\n",
    "\n",
    "print('Первая строка после нормализации',x_train[0])\n",
    "print('Среднее арифметическое по стобцам ',means)\n",
    "print('Дисперсия по столбцам' ,stds)"
   ]
  },
  {
   "cell_type": "markdown",
   "metadata": {},
   "source": [
    "Нормализуем тестовую выборку"
   ]
  },
  {
   "cell_type": "code",
   "execution_count": 8,
   "metadata": {},
   "outputs": [],
   "source": [
    "for i in range(x_test.shape[0]):\n",
    "    for j in range(x_test.shape[1]):\n",
    "        x_test[i][j]=(x_test[i][j]-means[j])/stds[j]"
   ]
  },
  {
   "cell_type": "markdown",
   "metadata": {},
   "source": [
    "## Создадим модель нейронной сети"
   ]
  },
  {
   "cell_type": "code",
   "execution_count": 9,
   "metadata": {},
   "outputs": [
    {
     "name": "stdout",
     "output_type": "stream",
     "text": [
      "WARNING:tensorflow:From C:\\Anaconda\\envs\\env_neuro\\lib\\site-packages\\tensorflow_core\\python\\ops\\resource_variable_ops.py:1630: calling BaseResourceVariable.__init__ (from tensorflow.python.ops.resource_variable_ops) with constraint is deprecated and will be removed in a future version.\n",
      "Instructions for updating:\n",
      "If using Keras pass *_constraint arguments to layers.\n"
     ]
    }
   ],
   "source": [
    "model=Sequential()\n",
    "\n",
    "#добавим нормального шума ,чтобы избежать переобучения\n",
    "model.add(GaussianNoise(stddev=0.02,input_shape=(2,)))\n",
    "\n",
    "model.add(Dense(256))\n",
    "model.add(LeakyReLU(0.2))\n",
    "\n",
    "model.add(Dense(128))\n",
    "model.add(LeakyReLU(0.2))\n",
    "\n",
    "model.add(Dense(1))\n",
    "model.add(Activation('sigmoid'))"
   ]
  },
  {
   "cell_type": "code",
   "execution_count": 10,
   "metadata": {},
   "outputs": [
    {
     "name": "stdout",
     "output_type": "stream",
     "text": [
      "Model: \"sequential_1\"\n",
      "_________________________________________________________________\n",
      "Layer (type)                 Output Shape              Param #   \n",
      "=================================================================\n",
      "gaussian_noise_1 (GaussianNo (None, 2)                 0         \n",
      "_________________________________________________________________\n",
      "dense_1 (Dense)              (None, 256)               768       \n",
      "_________________________________________________________________\n",
      "leaky_re_lu_1 (LeakyReLU)    (None, 256)               0         \n",
      "_________________________________________________________________\n",
      "dense_2 (Dense)              (None, 128)               32896     \n",
      "_________________________________________________________________\n",
      "leaky_re_lu_2 (LeakyReLU)    (None, 128)               0         \n",
      "_________________________________________________________________\n",
      "dense_3 (Dense)              (None, 1)                 129       \n",
      "_________________________________________________________________\n",
      "activation_1 (Activation)    (None, 1)                 0         \n",
      "=================================================================\n",
      "Total params: 33,793\n",
      "Trainable params: 33,793\n",
      "Non-trainable params: 0\n",
      "_________________________________________________________________\n"
     ]
    }
   ],
   "source": [
    "model.summary()"
   ]
  },
  {
   "cell_type": "code",
   "execution_count": 11,
   "metadata": {},
   "outputs": [
    {
     "name": "stdout",
     "output_type": "stream",
     "text": [
      "WARNING:tensorflow:From C:\\Anaconda\\envs\\env_neuro\\lib\\site-packages\\tensorflow_core\\python\\ops\\nn_impl.py:183: where (from tensorflow.python.ops.array_ops) is deprecated and will be removed in a future version.\n",
      "Instructions for updating:\n",
      "Use tf.where in 2.0, which has the same broadcast rule as np.where\n",
      "WARNING:tensorflow:From C:\\Anaconda\\envs\\env_neuro\\lib\\site-packages\\keras\\backend\\tensorflow_backend.py:422: The name tf.global_variables is deprecated. Please use tf.compat.v1.global_variables instead.\n",
      "\n",
      "Train on 80 samples, validate on 20 samples\n",
      "Epoch 1/80\n",
      "80/80 [==============================] - 1s 7ms/step - loss: 0.6591 - accuracy: 0.5625 - val_loss: 0.5872 - val_accuracy: 0.5000\n",
      "Epoch 2/80\n",
      "80/80 [==============================] - 0s 2ms/step - loss: 0.5505 - accuracy: 0.5875 - val_loss: 0.5223 - val_accuracy: 0.8000\n",
      "Epoch 3/80\n",
      "80/80 [==============================] - 0s 2ms/step - loss: 0.4823 - accuracy: 0.7750 - val_loss: 0.4436 - val_accuracy: 0.7500\n",
      "Epoch 4/80\n",
      "80/80 [==============================] - 0s 2ms/step - loss: 0.3894 - accuracy: 0.8875 - val_loss: 0.3381 - val_accuracy: 0.9000\n",
      "Epoch 5/80\n",
      "80/80 [==============================] - 0s 2ms/step - loss: 0.2976 - accuracy: 0.9000 - val_loss: 0.2828 - val_accuracy: 0.9000\n",
      "Epoch 6/80\n",
      "80/80 [==============================] - 0s 2ms/step - loss: 0.2399 - accuracy: 0.9125 - val_loss: 0.2241 - val_accuracy: 0.9000\n",
      "Epoch 7/80\n",
      "80/80 [==============================] - 0s 2ms/step - loss: 0.2004 - accuracy: 0.9375 - val_loss: 0.2298 - val_accuracy: 0.9000\n",
      "Epoch 8/80\n",
      "80/80 [==============================] - 0s 2ms/step - loss: 0.1837 - accuracy: 0.9375 - val_loss: 0.1859 - val_accuracy: 0.9500\n",
      "Epoch 9/80\n",
      "80/80 [==============================] - 0s 2ms/step - loss: 0.1501 - accuracy: 0.9750 - val_loss: 0.2015 - val_accuracy: 0.9000\n",
      "Epoch 10/80\n",
      "80/80 [==============================] - 0s 2ms/step - loss: 0.1390 - accuracy: 0.9625 - val_loss: 0.1760 - val_accuracy: 0.9500\n",
      "Epoch 11/80\n",
      "80/80 [==============================] - 0s 2ms/step - loss: 0.1377 - accuracy: 0.9500 - val_loss: 0.1550 - val_accuracy: 0.9500\n",
      "Epoch 12/80\n",
      "80/80 [==============================] - 0s 2ms/step - loss: 0.1128 - accuracy: 0.9750 - val_loss: 0.1860 - val_accuracy: 0.9000\n",
      "Epoch 13/80\n",
      "80/80 [==============================] - 0s 2ms/step - loss: 0.1164 - accuracy: 0.9625 - val_loss: 0.1710 - val_accuracy: 0.9000\n",
      "Epoch 14/80\n",
      "80/80 [==============================] - 0s 2ms/step - loss: 0.1174 - accuracy: 0.9625 - val_loss: 0.1610 - val_accuracy: 0.9000\n",
      "Epoch 15/80\n",
      "80/80 [==============================] - 0s 2ms/step - loss: 0.0916 - accuracy: 0.9750 - val_loss: 0.1506 - val_accuracy: 0.9500\n",
      "Epoch 16/80\n",
      "80/80 [==============================] - 0s 2ms/step - loss: 0.0808 - accuracy: 0.9750 - val_loss: 0.1581 - val_accuracy: 0.9000\n",
      "Epoch 17/80\n",
      "80/80 [==============================] - 0s 2ms/step - loss: 0.0976 - accuracy: 0.9625 - val_loss: 0.1726 - val_accuracy: 0.9000\n",
      "Epoch 18/80\n",
      "80/80 [==============================] - 0s 2ms/step - loss: 0.0929 - accuracy: 0.9500 - val_loss: 0.1647 - val_accuracy: 0.9000\n",
      "Epoch 19/80\n",
      "80/80 [==============================] - 0s 2ms/step - loss: 0.0873 - accuracy: 0.9750 - val_loss: 0.1930 - val_accuracy: 0.9500\n",
      "Epoch 20/80\n",
      "80/80 [==============================] - 0s 2ms/step - loss: 0.1159 - accuracy: 0.9625 - val_loss: 0.1857 - val_accuracy: 0.9500\n",
      "Epoch 21/80\n",
      "80/80 [==============================] - 0s 2ms/step - loss: 0.0759 - accuracy: 0.9750 - val_loss: 0.1776 - val_accuracy: 0.9500\n",
      "Epoch 22/80\n",
      "80/80 [==============================] - 0s 2ms/step - loss: 0.0951 - accuracy: 0.9750 - val_loss: 0.1756 - val_accuracy: 0.8500\n",
      "Epoch 23/80\n",
      "80/80 [==============================] - 0s 2ms/step - loss: 0.0634 - accuracy: 0.9750 - val_loss: 0.1885 - val_accuracy: 0.9000\n",
      "Epoch 24/80\n",
      "80/80 [==============================] - 0s 2ms/step - loss: 0.0792 - accuracy: 0.9625 - val_loss: 0.1819 - val_accuracy: 0.9000\n",
      "Epoch 25/80\n",
      "80/80 [==============================] - 0s 2ms/step - loss: 0.0771 - accuracy: 0.9750 - val_loss: 0.1583 - val_accuracy: 0.9500\n",
      "Epoch 26/80\n",
      "80/80 [==============================] - 0s 2ms/step - loss: 0.0886 - accuracy: 0.9500 - val_loss: 0.1970 - val_accuracy: 0.9500\n",
      "Epoch 27/80\n",
      "80/80 [==============================] - 0s 2ms/step - loss: 0.0612 - accuracy: 0.9750 - val_loss: 0.2401 - val_accuracy: 0.9500\n",
      "Epoch 28/80\n",
      "80/80 [==============================] - 0s 2ms/step - loss: 0.0901 - accuracy: 0.9625 - val_loss: 0.1636 - val_accuracy: 0.9000\n",
      "Epoch 29/80\n",
      "80/80 [==============================] - 0s 2ms/step - loss: 0.0863 - accuracy: 0.9625 - val_loss: 0.1527 - val_accuracy: 0.9500\n",
      "Epoch 30/80\n",
      "80/80 [==============================] - 0s 2ms/step - loss: 0.0696 - accuracy: 0.9750 - val_loss: 0.1843 - val_accuracy: 0.9000\n",
      "Epoch 31/80\n",
      "80/80 [==============================] - 0s 2ms/step - loss: 0.0640 - accuracy: 0.9875 - val_loss: 0.1805 - val_accuracy: 0.9500\n",
      "Epoch 32/80\n",
      "80/80 [==============================] - 0s 2ms/step - loss: 0.0935 - accuracy: 0.9625 - val_loss: 0.1576 - val_accuracy: 0.9500\n",
      "Epoch 33/80\n",
      "80/80 [==============================] - 0s 2ms/step - loss: 0.0472 - accuracy: 0.9750 - val_loss: 0.2142 - val_accuracy: 0.9000\n",
      "Epoch 34/80\n",
      "80/80 [==============================] - 0s 2ms/step - loss: 0.0395 - accuracy: 0.9750 - val_loss: 0.1285 - val_accuracy: 0.9500\n",
      "Epoch 35/80\n",
      "80/80 [==============================] - 0s 2ms/step - loss: 0.0541 - accuracy: 0.9875 - val_loss: 0.1443 - val_accuracy: 0.9500\n",
      "Epoch 36/80\n",
      "80/80 [==============================] - 0s 2ms/step - loss: 0.0771 - accuracy: 0.9625 - val_loss: 0.1865 - val_accuracy: 0.9500\n",
      "Epoch 37/80\n",
      "80/80 [==============================] - 0s 2ms/step - loss: 0.0605 - accuracy: 0.9625 - val_loss: 0.2260 - val_accuracy: 0.9000\n",
      "Epoch 38/80\n",
      "80/80 [==============================] - 0s 2ms/step - loss: 0.0409 - accuracy: 0.9750 - val_loss: 0.2083 - val_accuracy: 0.9000\n",
      "Epoch 39/80\n",
      "80/80 [==============================] - 0s 2ms/step - loss: 0.0596 - accuracy: 0.9750 - val_loss: 0.2202 - val_accuracy: 0.9000\n",
      "Epoch 40/80\n",
      "80/80 [==============================] - 0s 2ms/step - loss: 0.0473 - accuracy: 0.9875 - val_loss: 0.2555 - val_accuracy: 0.9000\n",
      "Epoch 41/80\n",
      "80/80 [==============================] - 0s 2ms/step - loss: 0.0535 - accuracy: 0.9625 - val_loss: 0.2099 - val_accuracy: 0.9000\n",
      "Epoch 42/80\n",
      "80/80 [==============================] - 0s 2ms/step - loss: 0.0458 - accuracy: 0.9875 - val_loss: 0.2925 - val_accuracy: 0.9000\n",
      "Epoch 43/80\n",
      "80/80 [==============================] - 0s 2ms/step - loss: 0.0539 - accuracy: 0.9625 - val_loss: 0.2526 - val_accuracy: 0.9500\n",
      "Epoch 44/80\n",
      "80/80 [==============================] - 0s 2ms/step - loss: 0.0843 - accuracy: 0.9750 - val_loss: 0.2184 - val_accuracy: 0.9000\n",
      "Epoch 45/80\n",
      "80/80 [==============================] - 0s 2ms/step - loss: 0.0484 - accuracy: 0.9875 - val_loss: 0.2173 - val_accuracy: 0.8500\n",
      "Epoch 46/80\n",
      "80/80 [==============================] - 0s 2ms/step - loss: 0.0618 - accuracy: 0.9875 - val_loss: 0.2209 - val_accuracy: 0.8500\n",
      "Epoch 47/80\n",
      "80/80 [==============================] - 0s 2ms/step - loss: 0.0388 - accuracy: 0.9750 - val_loss: 0.1836 - val_accuracy: 0.9000\n",
      "Epoch 48/80\n",
      "80/80 [==============================] - 0s 2ms/step - loss: 0.0587 - accuracy: 0.9750 - val_loss: 0.2602 - val_accuracy: 0.9000\n",
      "Epoch 49/80\n",
      "80/80 [==============================] - 0s 2ms/step - loss: 0.0405 - accuracy: 0.9750 - val_loss: 0.1650 - val_accuracy: 0.9000\n",
      "Epoch 50/80\n",
      "80/80 [==============================] - 0s 2ms/step - loss: 0.0517 - accuracy: 0.9875 - val_loss: 0.1176 - val_accuracy: 1.0000\n",
      "Epoch 51/80\n",
      "80/80 [==============================] - 0s 2ms/step - loss: 0.0479 - accuracy: 0.9625 - val_loss: 0.2079 - val_accuracy: 0.8500\n",
      "Epoch 52/80\n",
      "80/80 [==============================] - 0s 2ms/step - loss: 0.0454 - accuracy: 0.9875 - val_loss: 0.2564 - val_accuracy: 0.9000\n",
      "Epoch 53/80\n",
      "80/80 [==============================] - 0s 2ms/step - loss: 0.0741 - accuracy: 0.9875 - val_loss: 0.2002 - val_accuracy: 0.9000\n",
      "Epoch 54/80\n",
      "80/80 [==============================] - 0s 2ms/step - loss: 0.0517 - accuracy: 0.9750 - val_loss: 0.3683 - val_accuracy: 0.9000\n",
      "Epoch 55/80\n"
     ]
    },
    {
     "name": "stdout",
     "output_type": "stream",
     "text": [
      "80/80 [==============================] - 0s 2ms/step - loss: 0.0833 - accuracy: 0.9750 - val_loss: 0.2228 - val_accuracy: 0.9000\n",
      "Epoch 56/80\n",
      "80/80 [==============================] - 0s 2ms/step - loss: 0.0572 - accuracy: 0.9750 - val_loss: 0.2249 - val_accuracy: 0.9000\n",
      "Epoch 57/80\n",
      "80/80 [==============================] - 0s 2ms/step - loss: 0.0512 - accuracy: 0.9750 - val_loss: 0.1633 - val_accuracy: 0.9000\n",
      "Epoch 58/80\n",
      "80/80 [==============================] - 0s 2ms/step - loss: 0.0508 - accuracy: 0.9750 - val_loss: 0.1753 - val_accuracy: 0.9000\n",
      "Epoch 59/80\n",
      "80/80 [==============================] - 0s 2ms/step - loss: 0.0332 - accuracy: 0.9875 - val_loss: 0.3277 - val_accuracy: 0.9000\n",
      "Epoch 60/80\n",
      "80/80 [==============================] - 0s 2ms/step - loss: 0.0677 - accuracy: 0.9625 - val_loss: 0.2238 - val_accuracy: 0.9000\n",
      "Epoch 61/80\n",
      "80/80 [==============================] - 0s 2ms/step - loss: 0.0608 - accuracy: 0.9750 - val_loss: 0.2154 - val_accuracy: 0.9000\n",
      "Epoch 62/80\n",
      "80/80 [==============================] - 0s 2ms/step - loss: 0.0588 - accuracy: 0.9875 - val_loss: 0.2445 - val_accuracy: 0.9000\n",
      "Epoch 63/80\n",
      "80/80 [==============================] - 0s 2ms/step - loss: 0.0157 - accuracy: 1.0000 - val_loss: 0.3908 - val_accuracy: 0.9000\n",
      "Epoch 64/80\n",
      "80/80 [==============================] - 0s 2ms/step - loss: 0.0874 - accuracy: 0.9875 - val_loss: 0.2527 - val_accuracy: 0.9000\n",
      "Epoch 65/80\n",
      "80/80 [==============================] - 0s 2ms/step - loss: 0.0364 - accuracy: 0.9875 - val_loss: 0.2843 - val_accuracy: 0.9000\n",
      "Epoch 66/80\n",
      "80/80 [==============================] - 0s 2ms/step - loss: 0.0522 - accuracy: 0.9750 - val_loss: 0.2547 - val_accuracy: 0.9000\n",
      "Epoch 67/80\n",
      "80/80 [==============================] - 0s 2ms/step - loss: 0.0705 - accuracy: 0.9750 - val_loss: 0.2025 - val_accuracy: 0.9500\n",
      "Epoch 68/80\n",
      "80/80 [==============================] - 0s 2ms/step - loss: 0.0252 - accuracy: 1.0000 - val_loss: 0.3331 - val_accuracy: 0.9500\n",
      "Epoch 69/80\n",
      "80/80 [==============================] - 0s 2ms/step - loss: 0.0406 - accuracy: 0.9625 - val_loss: 0.3172 - val_accuracy: 0.9500\n",
      "Epoch 70/80\n",
      "80/80 [==============================] - 0s 2ms/step - loss: 0.0796 - accuracy: 0.9750 - val_loss: 0.1708 - val_accuracy: 0.9000\n",
      "Epoch 71/80\n",
      "80/80 [==============================] - 0s 2ms/step - loss: 0.0219 - accuracy: 0.9875 - val_loss: 0.3711 - val_accuracy: 0.9500\n",
      "Epoch 72/80\n",
      "80/80 [==============================] - 0s 2ms/step - loss: 0.0334 - accuracy: 0.9875 - val_loss: 0.2802 - val_accuracy: 0.9000\n",
      "Epoch 73/80\n",
      "80/80 [==============================] - 0s 2ms/step - loss: 0.0560 - accuracy: 0.9875 - val_loss: 0.1923 - val_accuracy: 0.8500\n",
      "Epoch 74/80\n",
      "80/80 [==============================] - 0s 2ms/step - loss: 0.0653 - accuracy: 0.9750 - val_loss: 0.2084 - val_accuracy: 0.9500\n",
      "Epoch 75/80\n",
      "80/80 [==============================] - 0s 2ms/step - loss: 0.0219 - accuracy: 0.9875 - val_loss: 0.2746 - val_accuracy: 0.9000\n",
      "Epoch 76/80\n",
      "80/80 [==============================] - 0s 2ms/step - loss: 0.0326 - accuracy: 0.9875 - val_loss: 0.2389 - val_accuracy: 0.9500\n",
      "Epoch 77/80\n",
      "80/80 [==============================] - 0s 2ms/step - loss: 0.0465 - accuracy: 0.9875 - val_loss: 0.3187 - val_accuracy: 0.9000\n",
      "Epoch 78/80\n",
      "80/80 [==============================] - 0s 2ms/step - loss: 0.0510 - accuracy: 0.9750 - val_loss: 0.3315 - val_accuracy: 0.9000\n",
      "Epoch 79/80\n",
      "80/80 [==============================] - 0s 2ms/step - loss: 0.0141 - accuracy: 1.0000 - val_loss: 0.4322 - val_accuracy: 0.9000\n",
      "Epoch 80/80\n",
      "80/80 [==============================] - 0s 2ms/step - loss: 0.0510 - accuracy: 0.9875 - val_loss: 0.3610 - val_accuracy: 0.9000\n"
     ]
    }
   ],
   "source": [
    "batch=2\n",
    "epochs=80\n",
    "\n",
    "validation_split=0.2      \n",
    "\n",
    "model.compile(loss='binary_crossentropy',optimizer='RMSprop',metrics=['accuracy'])\n",
    "        \n",
    "history=model.fit(x_train,y_train,batch_size=batch,epochs=epochs,verbose=True,validation_split=validation_split)"
   ]
  },
  {
   "cell_type": "markdown",
   "metadata": {},
   "source": [
    "Выведем график метрики качества и метрики ошибки от эпохи"
   ]
  },
  {
   "cell_type": "code",
   "execution_count": 27,
   "metadata": {},
   "outputs": [
    {
     "data": {
      "image/png": "[encoded data removed]",
      "text/plain": [
       "<Figure size 1440x720 with 1 Axes>"
      ]
     },
     "metadata": {
      "needs_background": "light"
     },
     "output_type": "display_data"
    }
   ],
   "source": [
    "x=np.arange(1,epochs+1)\n",
    "\n",
    "fig, ax = plt.subplots()\n",
    "ax.plot(x,history.history['loss'],label='loss')\n",
    "plt.xlabel('epochs')\n",
    "plt.ylabel('loss')\n",
    "\n",
    "plt.legend()\n",
    "\n",
    "fig.set_figheight(10)\n",
    "fig.set_figwidth(20)\n",
    "plt.show()"
   ]
  },
  {
   "cell_type": "code",
   "execution_count": 28,
   "metadata": {},
   "outputs": [
    {
     "data": {
      "image/png": "[encoded data removed]",
      "text/plain": [
       "<Figure size 1440x720 with 1 Axes>"
      ]
     },
     "metadata": {
      "needs_background": "light"
     },
     "output_type": "display_data"
    }
   ],
   "source": [
    "x=np.arange(1,epochs+1)\n",
    "\n",
    "fig, ax = plt.subplots()\n",
    "\n",
    "ax.plot(x,history.history['accuracy'],label='accuracy')\n",
    "ax.plot(x,history.history['val_accuracy'],label='val_accuracy')\n",
    "plt.xlabel('epochs')\n",
    "plt.ylabel('accuracy')\n",
    "\n",
    "plt.legend()\n",
    "\n",
    "fig.set_figheight(10)\n",
    "fig.set_figwidth(20)\n",
    "plt.show()"
   ]
  },
  {
   "cell_type": "markdown",
   "metadata": {},
   "source": [
    "Проверим модель на тестовой выборке"
   ]
  },
  {
   "cell_type": "code",
   "execution_count": 18,
   "metadata": {},
   "outputs": [
    {
     "name": "stdout",
     "output_type": "stream",
     "text": [
      "100/100 [==============================] - 0s 85us/step\n",
      "Test loss: 0.04029238638089737\n",
      "Test accuracy: 0.9800000190734863\n"
     ]
    }
   ],
   "source": [
    "score=model.evaluate(x_test,y_test)\n",
    "print(\"Test loss:\", score[0])\n",
    "print('Test accuracy:', score[1])\n"
   ]
  },
  {
   "cell_type": "markdown",
   "metadata": {},
   "source": [
    "## Создадим модели байеосовского классификатора бернулли и гаусса"
   ]
  },
  {
   "cell_type": "code",
   "execution_count": 19,
   "metadata": {},
   "outputs": [
    {
     "name": "stderr",
     "output_type": "stream",
     "text": [
      "C:\\Anaconda\\envs\\env_neuro\\lib\\site-packages\\sklearn\\utils\\validation.py:73: DataConversionWarning: A column-vector y was passed when a 1d array was expected. Please change the shape of y to (n_samples, ), for example using ravel().\n",
      "  return f(**kwargs)\n",
      "C:\\Anaconda\\envs\\env_neuro\\lib\\site-packages\\sklearn\\utils\\validation.py:73: DataConversionWarning: A column-vector y was passed when a 1d array was expected. Please change the shape of y to (n_samples, ), for example using ravel().\n",
      "  return f(**kwargs)\n"
     ]
    },
    {
     "data": {
      "text/plain": [
       "BernoulliNB()"
      ]
     },
     "execution_count": 19,
     "metadata": {},
     "output_type": "execute_result"
    }
   ],
   "source": [
    "NB = GaussianNB()  \n",
    "NB.fit(x_train, y_train)   \n",
    "BNB=BernoulliNB()\n",
    "BNB.fit(x_train, y_train)  "
   ]
  },
  {
   "cell_type": "markdown",
   "metadata": {},
   "source": [
    "Проверим модель на тестовой выборке"
   ]
  },
  {
   "cell_type": "code",
   "execution_count": 20,
   "metadata": {},
   "outputs": [
    {
     "name": "stdout",
     "output_type": "stream",
     "text": [
      "Accuracy Normal NB: 0.93\n",
      "Accuracy Bernulli NB: 0.60\n"
     ]
    }
   ],
   "source": [
    "y_predict = NB.predict(x_test)  \n",
    "y2_predict=BNB.predict(x_test)\n",
    "print(\"Accuracy Normal NB: {:.2f}\".format(NB.score(x_test, y_test)))\n",
    "print(\"Accuracy Bernulli NB: {:.2f}\".format(BNB.score(x_test, y_test)))"
   ]
  },
  {
   "cell_type": "markdown",
   "metadata": {},
   "source": [
    "## Создадим рандомное дерево решений"
   ]
  },
  {
   "cell_type": "code",
   "execution_count": 21,
   "metadata": {},
   "outputs": [
    {
     "name": "stdout",
     "output_type": "stream",
     "text": [
      "Random forest accuracy 0.95\n"
     ]
    },
    {
     "name": "stderr",
     "output_type": "stream",
     "text": [
      "C:\\Users\\Администратор\\AppData\\Roaming\\Python\\Python36\\site-packages\\ipykernel_launcher.py:3: DataConversionWarning: A column-vector y was passed when a 1d array was expected. Please change the shape of y to (n_samples,), for example using ravel().\n",
      "  This is separate from the ipykernel package so we can avoid doing imports until\n"
     ]
    }
   ],
   "source": [
    "rf = RandomForestClassifier()\n",
    " \n",
    "rf.fit(x_train, y_train)\n",
    "score=rf.score(x_test,y_test)\n",
    "print('Random forest accuracy',score) \n"
   ]
  }
 ],
 "metadata": {
  "kernelspec": {
   "display_name": "env_neuro",
   "language": "python",
   "name": "env_neuro"
  },
  "language_info": {
   "codemirror_mode": {
    "name": "ipython",
    "version": 3
   },
   "file_extension": ".py",
   "mimetype": "text/x-python",
   "name": "python",
   "nbconvert_exporter": "python",
   "pygments_lexer": "ipython3",
   "version": "3.6.10"
  }
 },
 "nbformat": 4,
 "nbformat_minor": 4
}
